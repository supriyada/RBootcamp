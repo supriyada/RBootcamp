{
 "cells": [
  {
   "cell_type": "code",
   "execution_count": 10,
   "metadata": {},
   "outputs": [],
   "source": [
    "# Dependencies\n",
    "import requests\n",
    "import json"
   ]
  },
  {
   "cell_type": "code",
   "execution_count": 11,
   "metadata": {},
   "outputs": [],
   "source": [
    "# Base URL for GET requests to retrieve number/date facts\n",
    "url = \"http://numbersapi.com/\""
   ]
  },
  {
   "cell_type": "code",
   "execution_count": 12,
   "metadata": {},
   "outputs": [
    {
     "name": "stdout",
     "output_type": "stream",
     "text": [
      "What type of data would you like to search for? [Trivia, Math, Date, or Year] date\n"
     ]
    }
   ],
   "source": [
    "# Ask the user what kind of data they would like to search for\n",
    "question = (\"What type of data would you like to search for? \"\n",
    "            \"[Trivia, Math, Date, or Year] \")\n",
    "kind_of_search = input(question)"
   ]
  },
  {
   "cell_type": "code",
   "execution_count": 13,
   "metadata": {},
   "outputs": [
    {
     "name": "stdout",
     "output_type": "stream",
     "text": [
      "Enter the month to search: 8\n",
      "Enter the day to search: 10\n",
      "August 10th is the day in 1821 that Missouri is admitted as the 24th U.S. state.\n"
     ]
    }
   ],
   "source": [
    "# If the kind of search is \"date\" take in two numbers\n",
    "if(kind_of_search.lower() == \"date\"):\n",
    "\n",
    "  # Collect the month to search for\n",
    "  month = input(\"Enter the month to search: \")\n",
    "  # Collect the day to search for\n",
    "  day = input(\"Enter the day to search: \")\n",
    "\n",
    "  # Make an API call to the \"date\" API and convert response object to JSON\n",
    "  new_url = url + month + '/' + day + '/date?json'\n",
    "  response = requests.get(new_url).json()\n",
    "  # Print the fact stored within the response\n",
    "  print(response[\"text\"])\n",
    "\n",
    "# If the kind of search is anything but \"date\" then take one number\n",
    "else:\n",
    "\n",
    "  # Collect the number to search for\n",
    "  number = input(\"Enter the number: \")\n",
    "\n",
    "  # Make an API call to the API and convert response object to JSON\n",
    "  response =  requests.get(url + number + \"/\" +  kind_of_search.lower()+ \"?json\").json()\n",
    "  \n",
    "  # Print the fact stored within the response\n",
    "  print(response[\"text\"])"
   ]
  },
  {
   "cell_type": "code",
   "execution_count": null,
   "metadata": {},
   "outputs": [],
   "source": []
  }
 ],
 "metadata": {
  "kernelspec": {
   "display_name": "Python 3",
   "language": "python",
   "name": "python3"
  },
  "language_info": {
   "codemirror_mode": {
    "name": "ipython",
    "version": 3
   },
   "file_extension": ".py",
   "mimetype": "text/x-python",
   "name": "python",
   "nbconvert_exporter": "python",
   "pygments_lexer": "ipython3",
   "version": "3.8.5"
  },
  "varInspector": {
   "cols": {
    "lenName": 16,
    "lenType": 16,
    "lenVar": 40
   },
   "kernels_config": {
    "python": {
     "delete_cmd_postfix": "",
     "delete_cmd_prefix": "del ",
     "library": "var_list.py",
     "varRefreshCmd": "print(var_dic_list())"
    },
    "r": {
     "delete_cmd_postfix": ") ",
     "delete_cmd_prefix": "rm(",
     "library": "var_list.r",
     "varRefreshCmd": "cat(var_dic_list()) "
    }
   },
   "types_to_exclude": [
    "module",
    "function",
    "builtin_function_or_method",
    "instance",
    "_Feature"
   ],
   "window_display": false
  }
 },
 "nbformat": 4,
 "nbformat_minor": 2
}
