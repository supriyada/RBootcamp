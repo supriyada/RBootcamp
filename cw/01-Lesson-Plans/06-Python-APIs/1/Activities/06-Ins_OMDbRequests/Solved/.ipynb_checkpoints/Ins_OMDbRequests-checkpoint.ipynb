{
 "cells": [
  {
   "cell_type": "code",
   "execution_count": 1,
   "metadata": {},
   "outputs": [],
   "source": [
    "import requests\n",
    "import json\n",
    "from config import api_key"
   ]
  },
  {
   "cell_type": "code",
   "execution_count": 2,
   "metadata": {},
   "outputs": [],
   "source": [
    "# New Dependency! Use this to pretty print the JSON\n",
    "# https://docs.python.org/3/library/pprint.html\n",
    "from pprint import pprint"
   ]
  },
  {
   "cell_type": "code",
   "execution_count": 3,
   "metadata": {},
   "outputs": [],
   "source": [
    "# Note that the ?t= is a query param for the t-itle of the\n",
    "# movie we want to search for.\n",
    "url = \"http://www.omdbapi.com/?t=\"\n",
    "api_key = \"&apikey=\" + api_key"
   ]
  },
  {
   "cell_type": "code",
   "execution_count": 4,
   "metadata": {},
   "outputs": [],
   "source": [
    "# Performing a GET request similar to the one we executed\n",
    "# earlier\n",
    "response = requests.get(url + \"Aliens\" + api_key)"
   ]
  },
  {
   "cell_type": "code",
   "execution_count": 5,
   "metadata": {},
   "outputs": [
    {
     "name": "stdout",
     "output_type": "stream",
     "text": [
      "{'Actors': 'Sigourney Weaver, Carrie Henn, Michael Biehn, Paul Reiser',\n",
      " 'Awards': 'Won 2 Oscars. Another 18 wins & 23 nominations.',\n",
      " 'BoxOffice': '$85,160,248',\n",
      " 'Country': 'USA',\n",
      " 'DVD': '25 Nov 2015',\n",
      " 'Director': 'James Cameron',\n",
      " 'Genre': 'Action, Adventure, Sci-Fi, Thriller',\n",
      " 'Language': 'English',\n",
      " 'Metascore': '84',\n",
      " 'Plot': 'Fifty-seven years after surviving an apocalyptic attack aboard her '\n",
      "         'space vessel by merciless space creatures, Officer Ripley awakens '\n",
      "         'from hyper-sleep and tries to warn anyone who will listen about the '\n",
      "         'predators.',\n",
      " 'Poster': 'https://m.media-amazon.com/images/M/MV5BZGU2OGY5ZTYtMWNhYy00NjZiLWI0NjUtZmNhY2JhNDRmODU3XkEyXkFqcGdeQXVyNzkwMjQ5NzM@._V1_SX300.jpg',\n",
      " 'Production': 'Twentieth Century Fox, Brandywine Productions',\n",
      " 'Rated': 'R',\n",
      " 'Ratings': [{'Source': 'Internet Movie Database', 'Value': '8.3/10'},\n",
      "             {'Source': 'Rotten Tomatoes', 'Value': '97%'},\n",
      "             {'Source': 'Metacritic', 'Value': '84/100'}],\n",
      " 'Released': '18 Jul 1986',\n",
      " 'Response': 'True',\n",
      " 'Runtime': '137 min',\n",
      " 'Title': 'Aliens',\n",
      " 'Type': 'movie',\n",
      " 'Website': 'N/A',\n",
      " 'Writer': 'James Cameron (story by), David Giler (story by), Walter Hill '\n",
      "           \"(story by), Dan O'Bannon (based on characters created by), Ronald \"\n",
      "           'Shusett (based on characters created by), James Cameron '\n",
      "           '(screenplay by)',\n",
      " 'Year': '1986',\n",
      " 'imdbID': 'tt0090605',\n",
      " 'imdbRating': '8.3',\n",
      " 'imdbVotes': '654,147'}\n"
     ]
    }
   ],
   "source": [
    "# Converting the response to JSON, and printing the result.\n",
    "data = response.json()\n",
    "pprint(data)"
   ]
  },
  {
   "cell_type": "code",
   "execution_count": 6,
   "metadata": {},
   "outputs": [
    {
     "name": "stdout",
     "output_type": "stream",
     "text": [
      "Movie was directed by James Cameron.\n",
      "Movie was released in USA, UK.\n"
     ]
    }
   ],
   "source": [
    "# Print a few keys from the response JSON.\n",
    "print(f\"Movie was directed by {data['Director']}.\")\n",
    "print(f\"Movie was released in {data['Country']}.\")"
   ]
  },
  {
   "cell_type": "code",
   "execution_count": null,
   "metadata": {},
   "outputs": [],
   "source": []
  }
 ],
 "metadata": {
  "kernelspec": {
   "display_name": "Python 3",
   "language": "python",
   "name": "python3"
  },
  "language_info": {
   "codemirror_mode": {
    "name": "ipython",
    "version": 3
   },
   "file_extension": ".py",
   "mimetype": "text/x-python",
   "name": "python",
   "nbconvert_exporter": "python",
   "pygments_lexer": "ipython3",
   "version": "3.8.5"
  },
  "varInspector": {
   "cols": {
    "lenName": 16,
    "lenType": 16,
    "lenVar": 40
   },
   "kernels_config": {
    "python": {
     "delete_cmd_postfix": "",
     "delete_cmd_prefix": "del ",
     "library": "var_list.py",
     "varRefreshCmd": "print(var_dic_list())"
    },
    "r": {
     "delete_cmd_postfix": ") ",
     "delete_cmd_prefix": "rm(",
     "library": "var_list.r",
     "varRefreshCmd": "cat(var_dic_list()) "
    }
   },
   "types_to_exclude": [
    "module",
    "function",
    "builtin_function_or_method",
    "instance",
    "_Feature"
   ],
   "window_display": false
  }
 },
 "nbformat": 4,
 "nbformat_minor": 2
}
