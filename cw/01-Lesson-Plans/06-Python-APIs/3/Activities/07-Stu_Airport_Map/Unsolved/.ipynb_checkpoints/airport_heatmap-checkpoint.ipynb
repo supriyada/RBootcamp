{
 "cells": [
  {
   "cell_type": "code",
   "execution_count": 1,
   "metadata": {},
   "outputs": [],
   "source": [
    "import gmaps\n",
    "import pandas as pd\n",
    "\n",
    "# Google developer API key\n",
    "from config import gkey\n",
    "\n",
    "# Configure gmaps\n",
    "gmaps.configure(api_key=gkey)"
   ]
  },
  {
   "cell_type": "code",
   "execution_count": 2,
   "metadata": {},
   "outputs": [
    {
     "data": {
      "text/html": [
       "<div>\n",
       "<style scoped>\n",
       "    .dataframe tbody tr th:only-of-type {\n",
       "        vertical-align: middle;\n",
       "    }\n",
       "\n",
       "    .dataframe tbody tr th {\n",
       "        vertical-align: top;\n",
       "    }\n",
       "\n",
       "    .dataframe thead th {\n",
       "        text-align: right;\n",
       "    }\n",
       "</style>\n",
       "<table border=\"1\" class=\"dataframe\">\n",
       "  <thead>\n",
       "    <tr style=\"text-align: right;\">\n",
       "      <th></th>\n",
       "      <th>Unnamed: 0</th>\n",
       "      <th>City</th>\n",
       "      <th>State</th>\n",
       "      <th>Lat</th>\n",
       "      <th>Lng</th>\n",
       "      <th>Airport Name</th>\n",
       "      <th>Airport Address</th>\n",
       "      <th>Airport Rating</th>\n",
       "    </tr>\n",
       "  </thead>\n",
       "  <tbody>\n",
       "    <tr>\n",
       "      <th>0</th>\n",
       "      <td>0</td>\n",
       "      <td>New York City</td>\n",
       "      <td>New York</td>\n",
       "      <td>40.712775</td>\n",
       "      <td>-74.005973</td>\n",
       "      <td>Newark Liberty International Airport</td>\n",
       "      <td>3 Brewster Rd, Newark</td>\n",
       "      <td>3.2</td>\n",
       "    </tr>\n",
       "    <tr>\n",
       "      <th>1</th>\n",
       "      <td>1</td>\n",
       "      <td>Los Angeles</td>\n",
       "      <td>California</td>\n",
       "      <td>34.052234</td>\n",
       "      <td>-118.243685</td>\n",
       "      <td>Los Angeles International Airport</td>\n",
       "      <td>1 World Way, Los Angeles</td>\n",
       "      <td>3.5</td>\n",
       "    </tr>\n",
       "    <tr>\n",
       "      <th>2</th>\n",
       "      <td>2</td>\n",
       "      <td>Chicago</td>\n",
       "      <td>Illinois</td>\n",
       "      <td>41.878114</td>\n",
       "      <td>-87.629798</td>\n",
       "      <td>O'Hare International Airport</td>\n",
       "      <td>10000 W O'Hare Ave, Chicago</td>\n",
       "      <td>3.6</td>\n",
       "    </tr>\n",
       "    <tr>\n",
       "      <th>3</th>\n",
       "      <td>3</td>\n",
       "      <td>Houston</td>\n",
       "      <td>Texas</td>\n",
       "      <td>29.760427</td>\n",
       "      <td>-95.369803</td>\n",
       "      <td>William P. Hobby Airport</td>\n",
       "      <td>7800 Airport Blvd, Houston</td>\n",
       "      <td>4.0</td>\n",
       "    </tr>\n",
       "    <tr>\n",
       "      <th>4</th>\n",
       "      <td>4</td>\n",
       "      <td>Philadelphia</td>\n",
       "      <td>Pennsylvania</td>\n",
       "      <td>39.952584</td>\n",
       "      <td>-75.165222</td>\n",
       "      <td>Philadelphia International Airport</td>\n",
       "      <td>8000 Essington Ave, Philadelphia</td>\n",
       "      <td>3.3</td>\n",
       "    </tr>\n",
       "  </tbody>\n",
       "</table>\n",
       "</div>"
      ],
      "text/plain": [
       "   Unnamed: 0           City         State        Lat         Lng  \\\n",
       "0           0  New York City      New York  40.712775  -74.005973   \n",
       "1           1    Los Angeles    California  34.052234 -118.243685   \n",
       "2           2        Chicago      Illinois  41.878114  -87.629798   \n",
       "3           3        Houston         Texas  29.760427  -95.369803   \n",
       "4           4   Philadelphia  Pennsylvania  39.952584  -75.165222   \n",
       "\n",
       "                           Airport Name                   Airport Address  \\\n",
       "0  Newark Liberty International Airport             3 Brewster Rd, Newark   \n",
       "1     Los Angeles International Airport          1 World Way, Los Angeles   \n",
       "2          O'Hare International Airport       10000 W O'Hare Ave, Chicago   \n",
       "3              William P. Hobby Airport        7800 Airport Blvd, Houston   \n",
       "4    Philadelphia International Airport  8000 Essington Ave, Philadelphia   \n",
       "\n",
       "   Airport Rating  \n",
       "0             3.2  \n",
       "1             3.5  \n",
       "2             3.6  \n",
       "3             4.0  \n",
       "4             3.3  "
      ]
     },
     "execution_count": 2,
     "metadata": {},
     "output_type": "execute_result"
    }
   ],
   "source": [
    "# Create aiport dataframe\n",
    "airport_df = pd.read_csv('../Resources/Airport_Output.csv')\n",
    "airport_df.dropna(inplace = True) \n",
    "airport_df.head()"
   ]
  },
  {
   "cell_type": "code",
   "execution_count": 9,
   "metadata": {},
   "outputs": [
    {
     "name": "stdout",
     "output_type": "stream",
     "text": [
      "          Lat         Lng\n",
      "0   40.712775  -74.005973\n",
      "1   34.052234 -118.243685\n",
      "2   41.878114  -87.629798\n",
      "3   29.760427  -95.369803\n",
      "4   39.952584  -75.165222\n",
      "..        ...         ...\n",
      "94  36.198859 -115.117501\n",
      "95  37.548270 -121.988572\n",
      "96  30.451468  -91.187147\n",
      "97  37.540725  -77.436048\n",
      "99  34.108345 -117.289765\n",
      "\n",
      "[98 rows x 2 columns]\n",
      "0     3.2\n",
      "1     3.5\n",
      "2     3.6\n",
      "3     4.0\n",
      "4     3.3\n",
      "     ... \n",
      "94    3.9\n",
      "95    4.1\n",
      "96    3.8\n",
      "97    4.1\n",
      "99    4.2\n",
      "Name: Airport Rating, Length: 98, dtype: float64\n"
     ]
    }
   ],
   "source": [
    "# Store latitude and longitude in locations\n",
    "locations = airport_df[['Lat','Lng']]\n",
    "print(locations)\n",
    "#convert to float\n",
    "rating = airport_df[\"Airport Rating\"].astype(float)\n",
    "print(rating)"
   ]
  },
  {
   "cell_type": "code",
   "execution_count": 11,
   "metadata": {},
   "outputs": [
    {
     "data": {
      "application/vnd.jupyter.widget-view+json": {
       "model_id": "f8404b8bfd7445089bbb557854af83d2",
       "version_major": 2,
       "version_minor": 0
      },
      "text/plain": [
       "Figure(layout=FigureLayout(height='420px'))"
      ]
     },
     "metadata": {},
     "output_type": "display_data"
    }
   ],
   "source": [
    "# Plot Heatmap\n",
    "fig = gmaps.figure()\n",
    "\n",
    "# Create heat layer\n",
    "heat_layer = gmaps.heatmap_layer(locations, weights=rating, \n",
    "                                 dissipating=False, max_intensity=10,\n",
    "                                 point_radius=1)\n",
    "\n",
    "# Add layer\n",
    "fig.add_layer(heat_layer)\n",
    "\n",
    "# Display figure\n",
    "fig"
   ]
  },
  {
   "cell_type": "markdown",
   "metadata": {},
   "source": [
    "![08-Airport_Heatmap.png](../Images/08-Airport_Heatmap.png)"
   ]
  },
  {
   "cell_type": "code",
   "execution_count": 12,
   "metadata": {},
   "outputs": [
    {
     "data": {
      "application/vnd.jupyter.widget-view+json": {
       "model_id": "ce67ca8491104db295534bcc48253203",
       "version_major": 2,
       "version_minor": 0
      },
      "text/plain": [
       "Figure(layout=FigureLayout(height='420px'))"
      ]
     },
     "metadata": {},
     "output_type": "display_data"
    }
   ],
   "source": [
    "# BONUS\n",
    "# Plost as a Hybrid map\n",
    "fig = gmaps.figure(map_type=\"HYBRID\")\n",
    "\n",
    "# Create heat layer\n",
    "heat_layer = gmaps.heatmap_layer(locations, weights=rating, \n",
    "                                 dissipating=False, max_intensity=10,\n",
    "                                 point_radius=1)\n",
    "\n",
    "fig.add_layer(heat_layer)\n",
    "fig"
   ]
  },
  {
   "cell_type": "markdown",
   "metadata": {},
   "source": [
    "![08-Hybrid_Map.png](../Images/08-Hybrid_Map.png)"
   ]
  },
  {
   "cell_type": "code",
   "execution_count": 13,
   "metadata": {},
   "outputs": [
    {
     "data": {
      "application/vnd.jupyter.widget-view+json": {
       "model_id": "d9aedbe361854f8390c94da60bcfda8b",
       "version_major": 2,
       "version_minor": 0
      },
      "text/plain": [
       "Figure(layout=FigureLayout(height='420px'))"
      ]
     },
     "metadata": {},
     "output_type": "display_data"
    }
   ],
   "source": [
    "# BONUS\n",
    "# Plot as a Terrain map\n",
    "fig = gmaps.figure(map_type=\"TERRAIN\")\n",
    "\n",
    "# Create heat layer\n",
    "heat_layer = gmaps.heatmap_layer(locations, weights=rating, \n",
    "                                 dissipating=False, max_intensity=10,\n",
    "                                 point_radius=1)\n",
    "\n",
    "fig.add_layer(heat_layer)\n",
    "fig"
   ]
  },
  {
   "cell_type": "markdown",
   "metadata": {},
   "source": [
    "![08-Terrain_Map.png](../Images/08-Terrain_Map.png)"
   ]
  },
  {
   "cell_type": "code",
   "execution_count": null,
   "metadata": {},
   "outputs": [],
   "source": []
  }
 ],
 "metadata": {
  "kernelspec": {
   "display_name": "Python 3",
   "language": "python",
   "name": "python3"
  },
  "language_info": {
   "codemirror_mode": {
    "name": "ipython",
    "version": 3
   },
   "file_extension": ".py",
   "mimetype": "text/x-python",
   "name": "python",
   "nbconvert_exporter": "python",
   "pygments_lexer": "ipython3",
   "version": "3.8.5"
  },
  "latex_envs": {
   "LaTeX_envs_menu_present": true,
   "autoclose": false,
   "autocomplete": true,
   "bibliofile": "biblio.bib",
   "cite_by": "apalike",
   "current_citInitial": 1,
   "eqLabelWithNumbers": true,
   "eqNumInitial": 1,
   "hotkeys": {
    "equation": "Ctrl-E",
    "itemize": "Ctrl-I"
   },
   "labels_anchors": false,
   "latex_user_defs": false,
   "report_style_numbering": false,
   "user_envs_cfg": false
  }
 },
 "nbformat": 4,
 "nbformat_minor": 2
}
