{
 "cells": [
  {
   "cell_type": "code",
   "execution_count": 19,
   "metadata": {},
   "outputs": [],
   "source": [
    "import pymongo\n",
    "import datetime"
   ]
  },
  {
   "cell_type": "code",
   "execution_count": 9,
   "metadata": {},
   "outputs": [],
   "source": [
    "db_conn = \"mongodb://localhost:27017\"\n",
    "\n",
    "client = pymongo.MongoClient(db_conn)"
   ]
  },
  {
   "cell_type": "code",
   "execution_count": 10,
   "metadata": {},
   "outputs": [],
   "source": [
    "db_name = client.fruits_db\n",
    "\n",
    "cl_name =db_name.fruits"
   ]
  },
  {
   "cell_type": "code",
   "execution_count": null,
   "metadata": {},
   "outputs": [],
   "source": []
  },
  {
   "cell_type": "code",
   "execution_count": 11,
   "metadata": {},
   "outputs": [],
   "source": [
    "row_one = {\n",
    "    \"vendor\":\"vendor1\",\n",
    "    \"fruit_type\":\"fruit1\",\n",
    "    \"quantity\":10,\n",
    "    \"ripeness\":1\n",
    "}\n",
    "\n"
   ]
  },
  {
   "cell_type": "code",
   "execution_count": 12,
   "metadata": {},
   "outputs": [
    {
     "data": {
      "text/plain": [
       "<pymongo.results.InsertOneResult at 0x1f673ae6e40>"
      ]
     },
     "execution_count": 12,
     "metadata": {},
     "output_type": "execute_result"
    }
   ],
   "source": [
    "cl_name.insert_one(row_one)"
   ]
  },
  {
   "cell_type": "code",
   "execution_count": 24,
   "metadata": {},
   "outputs": [
    {
     "name": "stdout",
     "output_type": "stream",
     "text": [
      "{'_id': ObjectId('60763f3ad31cd0296c13bb97'), 'vendor': 'vendor1', 'fruit_type': 'fruit1', 'quantity': 10, 'ripeness': 1}\n",
      "{'_id': ObjectId('60764085d31cd0296c13bb98'), 'vendor': 'v2', 'fruit_type': 'f2', 'quantity': '4', 'ripeness': '2'}\n",
      "{'_id': ObjectId('60764135d31cd0296c13bb99'), 'vendor': 'v3', 'fruit_type': 'f3', 'quantity': '6', 'ripeness': '3', 'update_time': datetime.datetime(2021, 4, 14, 1, 11, 2, 681000)}\n"
     ]
    }
   ],
   "source": [
    "all_rows = cl_name.find()\n",
    "\n",
    "for r in all_rows:\n",
    "    print(r)"
   ]
  },
  {
   "cell_type": "code",
   "execution_count": 20,
   "metadata": {},
   "outputs": [
    {
     "name": "stdout",
     "output_type": "stream",
     "text": [
      "Please enter vendor name:v3\n",
      "Please enter fruit type:f3\n",
      "Please enter the quantity:6\n",
      "Please enter ripeness level:(1-3) 3\n"
     ]
    }
   ],
   "source": [
    "vendor_name=input(\"Please enter vendor name:\")\n",
    "fruit_type = input(\"Please enter fruit type:\")\n",
    "quantity = input(\"Please enter the quantity:\")\n",
    "ripe_level=input(\"Please enter ripeness level:(1-3) \")"
   ]
  },
  {
   "cell_type": "code",
   "execution_count": 16,
   "metadata": {},
   "outputs": [],
   "source": [
    "row_two = {\n",
    "    \"vendor\":vendor_name,\n",
    "    \"fruit_type\":fruit_type,\n",
    "    \"quantity\":quantity,\n",
    "    \"ripeness\":ripe_level\n",
    "}"
   ]
  },
  {
   "cell_type": "code",
   "execution_count": 23,
   "metadata": {},
   "outputs": [
    {
     "data": {
      "text/plain": [
       "<pymongo.results.InsertOneResult at 0x1f6745660c0>"
      ]
     },
     "execution_count": 23,
     "metadata": {},
     "output_type": "execute_result"
    }
   ],
   "source": [
    "cl_name.insert_one(row_three)"
   ]
  },
  {
   "cell_type": "code",
   "execution_count": 21,
   "metadata": {},
   "outputs": [],
   "source": [
    "row_three = {\n",
    "    \"vendor\":vendor_name,\n",
    "    \"fruit_type\":fruit_type,\n",
    "    \"quantity\":quantity,\n",
    "    \"ripeness\":ripe_level,\n",
    "    \"update_time\":datetime.datetime.utcnow()\n",
    "}"
   ]
  }
 ],
 "metadata": {
  "kernelspec": {
   "display_name": "Python 3",
   "language": "python",
   "name": "python3"
  },
  "language_info": {
   "codemirror_mode": {
    "name": "ipython",
    "version": 3
   },
   "file_extension": ".py",
   "mimetype": "text/x-python",
   "name": "python",
   "nbconvert_exporter": "python",
   "pygments_lexer": "ipython3",
   "version": "3.8.5"
  }
 },
 "nbformat": 4,
 "nbformat_minor": 2
}
