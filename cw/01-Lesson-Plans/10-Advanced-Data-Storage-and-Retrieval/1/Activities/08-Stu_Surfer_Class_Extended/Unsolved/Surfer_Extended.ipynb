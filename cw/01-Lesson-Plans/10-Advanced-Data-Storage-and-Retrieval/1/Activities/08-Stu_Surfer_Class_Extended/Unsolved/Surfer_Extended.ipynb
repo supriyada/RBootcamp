{
 "cells": [
  {
   "cell_type": "code",
   "execution_count": 10,
   "metadata": {},
   "outputs": [],
   "source": [
    "# Define the Surfer Class\n",
    "class Surfer():\n",
    "\n",
    "    # Keep track of surfer count as they are created\n",
    "    surferCount = 0\n",
    "\n",
    "    # Constructor\n",
    "    # --------------------------------------------------------------------------------\n",
    "    # Initialize the surfer and assign each surfer a new surfer count upon creation\n",
    "    def __init__(self, name, hometown, rank, wipeouts=0):\n",
    "        self.name = name\n",
    "        self.hometown = hometown\n",
    "        self.rank = rank\n",
    "        self.wipeouts = wipeouts\n",
    "        Surfer.surferCount += 1\n",
    "\n",
    "    # Class Methods\n",
    "    # --------------------------------------------------------------------------------\n",
    "    # Prints what number surfer they are based on when they were created\n",
    "    def surfer_pos(self):\n",
    "        print(\"Surfers position is: \" + str(Surfer.surferCount))\n",
    "\n",
    "    # Prints out simple string\n",
    "    def speak(self):\n",
    "        print(\"Hangs loose, bruh!!\")\n",
    "        \n",
    "    def biography(self):\n",
    "        print(\"Surfer's Name: \"+self.name+ \"Hometown: \" + self.hometown)\n",
    "        \n",
    "    def cheer(self):\n",
    "        if self.wipeouts == 0:\n",
    "            print(\"No wipeouts\")\n",
    "        else:\n",
    "            print(\"Bummer\")\n",
    "\n",
    "    # Interpolates based on their attributes\n",
    "    \n",
    "\n",
    "    # Check how many wipeouts and print out a statement\n"
   ]
  },
  {
   "cell_type": "code",
   "execution_count": 11,
   "metadata": {},
   "outputs": [
    {
     "name": "stdout",
     "output_type": "stream",
     "text": [
      "Priya\n"
     ]
    }
   ],
   "source": [
    "# Create Surfers\n",
    "# --------------------------------------------------------------------------------\n",
    "surfer_1 = Surfer(\"Priya\",\"GB\",\"0\")\n",
    "print(surfer_1.name)"
   ]
  },
  {
   "cell_type": "code",
   "execution_count": 12,
   "metadata": {},
   "outputs": [
    {
     "name": "stdout",
     "output_type": "stream",
     "text": [
      "0\n",
      "1\n"
     ]
    }
   ],
   "source": [
    "print(surfer_1.wipeouts)\n",
    "print(surfer_1.surferCount)"
   ]
  },
  {
   "cell_type": "code",
   "execution_count": 14,
   "metadata": {},
   "outputs": [
    {
     "name": "stdout",
     "output_type": "stream",
     "text": [
      "Surfers position is: 1\n",
      "None\n"
     ]
    }
   ],
   "source": [
    "print((surfer_1.surfer_pos()))"
   ]
  },
  {
   "cell_type": "code",
   "execution_count": 15,
   "metadata": {},
   "outputs": [
    {
     "name": "stdout",
     "output_type": "stream",
     "text": [
      "ABC\n",
      "Bummer\n",
      "None\n"
     ]
    }
   ],
   "source": [
    "surfer_2 = Surfer(\"ABC\",\"ewrer\",1,1)\n",
    "print(surfer_2.name)\n",
    "print(surfer_2.cheer())"
   ]
  }
 ],
 "metadata": {
  "kernelspec": {
   "display_name": "Python 3",
   "language": "python",
   "name": "python3"
  },
  "language_info": {
   "codemirror_mode": {
    "name": "ipython",
    "version": 3
   },
   "file_extension": ".py",
   "mimetype": "text/x-python",
   "name": "python",
   "nbconvert_exporter": "python",
   "pygments_lexer": "ipython3",
   "version": "3.8.5"
  },
  "varInspector": {
   "cols": {
    "lenName": 16,
    "lenType": 16,
    "lenVar": 40
   },
   "kernels_config": {
    "python": {
     "delete_cmd_postfix": "",
     "delete_cmd_prefix": "del ",
     "library": "var_list.py",
     "varRefreshCmd": "print(var_dic_list())"
    },
    "r": {
     "delete_cmd_postfix": ") ",
     "delete_cmd_prefix": "rm(",
     "library": "var_list.r",
     "varRefreshCmd": "cat(var_dic_list()) "
    }
   },
   "types_to_exclude": [
    "module",
    "function",
    "builtin_function_or_method",
    "instance",
    "_Feature"
   ],
   "window_display": false
  }
 },
 "nbformat": 4,
 "nbformat_minor": 2
}
