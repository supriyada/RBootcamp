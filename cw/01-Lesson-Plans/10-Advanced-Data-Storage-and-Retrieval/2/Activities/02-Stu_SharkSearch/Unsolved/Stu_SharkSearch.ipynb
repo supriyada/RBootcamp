{
 "cells": [
  {
   "cell_type": "code",
   "execution_count": 1,
   "metadata": {},
   "outputs": [],
   "source": [
    "from sqlalchemy.ext.declarative import declarative_base\n",
    "Base = declarative_base()\n",
    "from sqlalchemy import Column, Integer, String, Float"
   ]
  },
  {
   "cell_type": "code",
   "execution_count": 2,
   "metadata": {},
   "outputs": [],
   "source": [
    "from sqlalchemy import create_engine\n",
    "database_path = \"../Resources/sharks.sqlite\"\n",
    "engine = create_engine(f\"sqlite:///{database_path}\")\n",
    "Base.metadata.create_all(engine)"
   ]
  },
  {
   "cell_type": "code",
   "execution_count": 3,
   "metadata": {},
   "outputs": [],
   "source": [
    "from sqlalchemy.orm import Session\n",
    "session = Session(bind=engine)"
   ]
  },
  {
   "cell_type": "code",
   "execution_count": 4,
   "metadata": {
    "nbgrader": {
     "grade": false,
     "grade_id": "cell-c57d66be4b87f3dc",
     "locked": false,
     "schema_version": 1,
     "solution": true
    }
   },
   "outputs": [],
   "source": [
    "# create your shark class\n",
    "class Sharks(Base):\n",
    "    __tablename__ = 'sharks'\n",
    "    id = Column(Integer, primary_key=True)\n",
    "    case_number = Column(String)\n",
    "    date = Column(String)\n",
    "    year = Column(Integer)\n",
    "    type = Column(String)\n",
    "    country = Column(String)\n",
    "    area = Column(String)\n",
    "    location= Column(String)\n",
    "    activity = Column(String)\n",
    "    name = Column(String)\n",
    "    sex = Column(String)\n",
    "    age = Column(Integer)\n",
    "    injury = Column(String)\n",
    "    fatal_y_n = Column(String)\n",
    "    time = Column(String)\n",
    "    species = Column(String)\n",
    "    investigator_or_source = Column(String)\n",
    "    pdf = Column(String)\n",
    "    original_order = Column(Integer)"
   ]
  },
  {
   "cell_type": "code",
   "execution_count": 26,
   "metadata": {
    "collapsed": true,
    "nbgrader": {
     "grade": false,
     "grade_id": "cell-48e2a351e977f8b6",
     "locked": false,
     "schema_version": 1,
     "solution": true
    }
   },
   "outputs": [
    {
     "name": "stdout",
     "output_type": "stream",
     "text": [
      "Body boarding\n",
      "Surfing\n",
      "Attempting to lasso a shark\n",
      "Swimming\n",
      "Wading\n",
      "Fishing\n",
      "Surfing\n",
      "Surfing\n",
      "Surfing\n",
      "Surfing\n",
      "Surfing\n",
      "Feeding fish\n",
      "Swimming\n",
      "Wading\n",
      "Kayaking\n",
      "Surfing\n",
      "Fishing\n",
      "Fishing\n",
      "Surfing\n",
      "Fishing\n",
      "Surfing\n",
      "Surfing\n",
      "Diving, but on the surface when bitten by the shark\n",
      "Air Disaster\n",
      "Surfing\n",
      "Lobstering\n",
      "Surfing\n",
      "Fishing\n",
      "None\n",
      "Spearfishing\n",
      "Fishing\n",
      "Swimming\n",
      "Swimming\n",
      "Swimming\n",
      "Fishing\n",
      "Surfing\n",
      "Surfing\n",
      "None\n",
      "Snorkeling\n",
      "Surfing\n",
      "Surfing\n",
      "Fishing\n",
      "Surfing\n",
      "Swimming\n",
      "Spearfishing\n",
      "Crabbing\n",
      "Yacht race\n",
      "Surfing\n",
      "Boogie Boarding\n",
      "Kayaking\n",
      "Snorkeling\n",
      "Kayaking\n",
      "Fishing\n",
      "Fishing\n",
      "Fishing\n",
      "Spearfishing\n",
      "Scuba diving\n",
      "Sinking of the cargo ship Mark Jason\n",
      "Surfing\n",
      "None\n",
      "Fishing\n",
      "Fishing boat swamped in storm\n",
      "Fishing\n",
      "Scuba diving\n",
      "Spearfishing\n",
      "Fishing\n",
      "Surfing\n",
      "Fishing\n",
      "Spearfishing\n",
      "Spearfishing\n",
      "Surfing\n",
      "Surfing\n",
      "Swimming\n",
      "Swimming\n",
      "Surfing\n",
      "Surfing\n",
      "Surfing\n",
      "Surfing\n",
      "Surfing\n",
      "Surfing\n",
      "Fishing\n",
      "Surfing\n",
      "Surfing\n",
      "Swimming\n",
      "Fishing\n",
      "Surfing\n",
      "Surfing\n",
      "Swimming, towing surfboard\n",
      "Surfing\n",
      "Swimming\n",
      "None\n",
      "Fishing in Alabama Deep Fishing Rodeo\n",
      "Treading water\n",
      "Wading\n",
      "Diving\n",
      "Surfing\n",
      "None\n",
      "Swimming or surfing\n",
      "Swimming\n",
      "Swimming\n"
     ]
    }
   ],
   "source": [
    "# print all locations of shark attacks\n",
    "shark_attack = session.query(Sharks)\n",
    "for sa in shark_attack:\n",
    "    print(sa.activity)"
   ]
  },
  {
   "cell_type": "code",
   "execution_count": 28,
   "metadata": {},
   "outputs": [
    {
     "ename": "NameError",
     "evalue": "name 'sharks' is not defined",
     "output_type": "error",
     "traceback": [
      "\u001b[1;31m---------------------------------------------------------------------------\u001b[0m",
      "\u001b[1;31mNameError\u001b[0m                                 Traceback (most recent call last)",
      "\u001b[1;32m<ipython-input-28-8b2216e409d5>\u001b[0m in \u001b[0;36m<module>\u001b[1;34m\u001b[0m\n\u001b[1;32m----> 1\u001b[1;33m \u001b[1;32mfor\u001b[0m \u001b[0ms\u001b[0m \u001b[1;32min\u001b[0m \u001b[0msharks\u001b[0m\u001b[1;33m:\u001b[0m\u001b[1;33m\u001b[0m\u001b[1;33m\u001b[0m\u001b[0m\n\u001b[0m\u001b[0;32m      2\u001b[0m     \u001b[0mprint\u001b[0m\u001b[1;33m(\u001b[0m\u001b[0ms\u001b[0m\u001b[1;33m)\u001b[0m\u001b[1;33m\u001b[0m\u001b[1;33m\u001b[0m\u001b[0m\n",
      "\u001b[1;31mNameError\u001b[0m: name 'sharks' is not defined"
     ]
    }
   ],
   "source": [
    "shark_all = session.query(Sharks)"
   ]
  },
  {
   "cell_type": "code",
   "execution_count": 9,
   "metadata": {
    "nbgrader": {
     "grade": false,
     "grade_id": "cell-33b12ba730e08a42",
     "locked": false,
     "schema_version": 1,
     "solution": true
    }
   },
   "outputs": [
    {
     "name": "stdout",
     "output_type": "stream",
     "text": [
      "12\n"
     ]
    }
   ],
   "source": [
    "# find the number of provoked attacks\n",
    "p_attack = session.query(Sharks).filter(Sharks.type == \"Provoked\").count()\n",
    "\n",
    "print(p_attack)"
   ]
  },
  {
   "cell_type": "code",
   "execution_count": 11,
   "metadata": {
    "nbgrader": {
     "grade": false,
     "grade_id": "cell-4b1293d38480400d",
     "locked": false,
     "schema_version": 1,
     "solution": true
    }
   },
   "outputs": [
    {
     "name": "stdout",
     "output_type": "stream",
     "text": [
      "28\n"
     ]
    }
   ],
   "source": [
    "# find the number of attacks in USA\n",
    "usa_attacks = session.query(Sharks).\\\n",
    "                filter(Sharks.country == \"USA\").count()\n",
    "\n",
    "print(usa_attacks)"
   ]
  },
  {
   "cell_type": "code",
   "execution_count": 12,
   "metadata": {
    "nbgrader": {
     "grade": false,
     "grade_id": "cell-5431c1fabaae9ed8",
     "locked": false,
     "schema_version": 1,
     "solution": true
    }
   },
   "outputs": [
    {
     "name": "stdout",
     "output_type": "stream",
     "text": [
      "3\n"
     ]
    }
   ],
   "source": [
    "# find the number of attacks in 2017\n",
    "attacks_2017 = session.query(Sharks).\\\n",
    "                filter(Sharks.year == \"2017\").count()\n",
    "\n",
    "print(attacks_2017)"
   ]
  },
  {
   "cell_type": "code",
   "execution_count": 15,
   "metadata": {
    "nbgrader": {
     "grade": false,
     "grade_id": "cell-4de2402e47fe0214",
     "locked": false,
     "schema_version": 1,
     "solution": true
    }
   },
   "outputs": [
    {
     "name": "stdout",
     "output_type": "stream",
     "text": [
      "34\n"
     ]
    }
   ],
   "source": [
    "# find the number of attacks while surfing\n",
    "surf_attack = session.query(Sharks).\\\n",
    "                filter(Sharks.activity == \"Surfing\").count()\n",
    "\n",
    "print(surf_attack)"
   ]
  },
  {
   "cell_type": "code",
   "execution_count": 17,
   "metadata": {
    "nbgrader": {
     "grade": false,
     "grade_id": "cell-9e2afa5b2f869a4f",
     "locked": false,
     "schema_version": 1,
     "solution": true
    }
   },
   "outputs": [
    {
     "name": "stdout",
     "output_type": "stream",
     "text": [
      "12\n"
     ]
    }
   ],
   "source": [
    "# find the number of fatal attacks\n",
    "\n",
    "fatal_attack = session.query(Sharks).\\\n",
    "                filter(Sharks.fatal_y_n == \"Y\").count()\n",
    "\n",
    "print(fatal_attack)"
   ]
  },
  {
   "cell_type": "code",
   "execution_count": 18,
   "metadata": {
    "nbgrader": {
     "grade": false,
     "grade_id": "cell-75819f28900a2e54",
     "locked": false,
     "schema_version": 1,
     "solution": true
    }
   },
   "outputs": [
    {
     "name": "stdout",
     "output_type": "stream",
     "text": [
      "2\n"
     ]
    }
   ],
   "source": [
    "# find the number of fatal attacks while surfing\n",
    "fatal_surf_attack = session.query(Sharks).\\\n",
    "                filter(Sharks.activity == \"Surfing\").\\\n",
    "                filter(Sharks.fatal_y_n == \"Y\").count()\n",
    "\n",
    "print(fatal_surf_attack)"
   ]
  },
  {
   "cell_type": "code",
   "execution_count": 24,
   "metadata": {
    "nbgrader": {
     "grade": false,
     "grade_id": "cell-ef68003cff255319",
     "locked": false,
     "schema_version": 1,
     "solution": true
    }
   },
   "outputs": [
    {
     "name": "stdout",
     "output_type": "stream",
     "text": [
      "1\n"
     ]
    }
   ],
   "source": [
    "# find the number of fatal attacks in Mozambique while spearfishing\n",
    "m_spear_fish_attack = session.query(Sharks).\\\n",
    "                filter(Sharks.country == \"MOZAMBIQUE\").\\\n",
    "                filter(Sharks.activity == \"Spearfishing\").\\\n",
    "                filter(Sharks.fatal_y_n == \"Y\").count()\n",
    "\n",
    "print(m_spear_fish_attack)"
   ]
  },
  {
   "cell_type": "code",
   "execution_count": 25,
   "metadata": {},
   "outputs": [],
   "source": [
    "# Close the session\n",
    "session.close()"
   ]
  }
 ],
 "metadata": {
  "celltoolbar": "Create Assignment",
  "kernelspec": {
   "display_name": "Python 3",
   "language": "python",
   "name": "python3"
  },
  "language_info": {
   "codemirror_mode": {
    "name": "ipython",
    "version": 3
   },
   "file_extension": ".py",
   "mimetype": "text/x-python",
   "name": "python",
   "nbconvert_exporter": "python",
   "pygments_lexer": "ipython3",
   "version": "3.8.5"
  },
  "varInspector": {
   "cols": {
    "lenName": 16,
    "lenType": 16,
    "lenVar": 40
   },
   "kernels_config": {
    "python": {
     "delete_cmd_postfix": "",
     "delete_cmd_prefix": "del ",
     "library": "var_list.py",
     "varRefreshCmd": "print(var_dic_list())"
    },
    "r": {
     "delete_cmd_postfix": ") ",
     "delete_cmd_prefix": "rm(",
     "library": "var_list.r",
     "varRefreshCmd": "cat(var_dic_list()) "
    }
   },
   "types_to_exclude": [
    "module",
    "function",
    "builtin_function_or_method",
    "instance",
    "_Feature"
   ],
   "window_display": false
  }
 },
 "nbformat": 4,
 "nbformat_minor": 4
}
