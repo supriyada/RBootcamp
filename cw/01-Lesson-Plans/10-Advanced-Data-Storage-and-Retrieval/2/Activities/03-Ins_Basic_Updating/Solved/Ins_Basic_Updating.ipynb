{
 "cells": [
  {
   "cell_type": "code",
   "execution_count": 14,
   "metadata": {},
   "outputs": [],
   "source": [
    "from sqlalchemy import create_engine, Column, Integer, String\n",
    "from sqlalchemy.ext.declarative import declarative_base\n",
    "Base = declarative_base()"
   ]
  },
  {
   "cell_type": "code",
   "execution_count": 15,
   "metadata": {},
   "outputs": [],
   "source": [
    "# Define our pet table\n",
    "class Pet(Base):\n",
    "    __tablename__ = 'pet'\n",
    "    id = Column(Integer, primary_key=True)\n",
    "    name = Column(String)\n",
    "    type = Column(String)\n",
    "    age = Column(Integer)"
   ]
  },
  {
   "cell_type": "code",
   "execution_count": 16,
   "metadata": {},
   "outputs": [
    {
     "data": {
      "text/plain": [
       "immutabledict({'pet': Table('pet', MetaData(bind=None), Column('id', Integer(), table=<pet>, primary_key=True, nullable=False), Column('name', String(), table=<pet>), Column('type', String(), table=<pet>), Column('age', Integer(), table=<pet>), schema=None)})"
      ]
     },
     "execution_count": 16,
     "metadata": {},
     "output_type": "execute_result"
    }
   ],
   "source": [
    "# Right now, this table only exists in python and not in the actual database\n",
    "Base.metadata.tables"
   ]
  },
  {
   "cell_type": "code",
   "execution_count": 17,
   "metadata": {},
   "outputs": [],
   "source": [
    "# Create our database engine\n",
    "engine = create_engine('sqlite:///pets.sqlite')"
   ]
  },
  {
   "cell_type": "code",
   "execution_count": 18,
   "metadata": {},
   "outputs": [],
   "source": [
    "# This is where we create our tables in the database\n",
    "Base.metadata.create_all(engine)"
   ]
  },
  {
   "cell_type": "code",
   "execution_count": 19,
   "metadata": {},
   "outputs": [],
   "source": [
    "# The ORM’s “handle” to the database is the Session.\n",
    "from sqlalchemy.orm import Session\n",
    "session = Session(engine)"
   ]
  },
  {
   "cell_type": "markdown",
   "metadata": {},
   "source": [
    "## Create Data"
   ]
  },
  {
   "cell_type": "code",
   "execution_count": 20,
   "metadata": {},
   "outputs": [],
   "source": [
    "# Note that adding to the session does not update the table. It queues up those queries.\n",
    "session.add(Pet(name='Justin Timbersnake', type='snek', age=2))\n",
    "session.add(Pet(name='Pawtrick Stewart', type='good boy', age=10))\n",
    "session.add(Pet(name='Godzilla', type='iguana', age=1))\n",
    "session.add(Pet(name='Marshmallow', type='polar bear', age=4))"
   ]
  },
  {
   "cell_type": "code",
   "execution_count": 21,
   "metadata": {},
   "outputs": [
    {
     "data": {
      "text/plain": [
       "[(1, 'Justin Timbersnake', 'snek', 2),\n",
       " (2, 'Pawtrick Stewart', 'good boy', 10),\n",
       " (3, 'Godzilla', 'iguana', 1),\n",
       " (4, 'Marshmallow', 'polar bear', 4),\n",
       " (5, 'Justin Timbersnake', 'snek', 2),\n",
       " (6, 'Pawtrick Stewart', 'good boy', 10),\n",
       " (7, 'Godzilla', 'iguana', 1),\n",
       " (8, 'Marshmallow', 'polar bear', 4)]"
      ]
     },
     "execution_count": 21,
     "metadata": {},
     "output_type": "execute_result"
    }
   ],
   "source": [
    "# The data hasn't been added yet\n",
    "engine.execute('select * from pet').fetchall()"
   ]
  },
  {
   "cell_type": "code",
   "execution_count": 22,
   "metadata": {},
   "outputs": [
    {
     "data": {
      "text/plain": [
       "IdentitySet([<__main__.Pet object at 0x000001D9E585C5E0>, <__main__.Pet object at 0x000001D9E585C550>, <__main__.Pet object at 0x000001D9E585C760>, <__main__.Pet object at 0x000001D9E585C700>])"
      ]
     },
     "execution_count": 22,
     "metadata": {},
     "output_type": "execute_result"
    }
   ],
   "source": [
    "# We can use the new attribute to see the queue of data ready to go into the database\n",
    "session.new"
   ]
  },
  {
   "cell_type": "code",
   "execution_count": 23,
   "metadata": {},
   "outputs": [],
   "source": [
    "# commit() flushes whatever remaining changes remain to the database, and commits the transaction.\n",
    "session.commit()"
   ]
  },
  {
   "cell_type": "code",
   "execution_count": 24,
   "metadata": {},
   "outputs": [
    {
     "data": {
      "text/plain": [
       "IdentitySet([])"
      ]
     },
     "execution_count": 24,
     "metadata": {},
     "output_type": "execute_result"
    }
   ],
   "source": [
    "# Nothing new to add\n",
    "session.new"
   ]
  },
  {
   "cell_type": "code",
   "execution_count": 25,
   "metadata": {},
   "outputs": [
    {
     "data": {
      "text/plain": [
       "[('Justin Timbersnake', 'snek', 2),\n",
       " ('Pawtrick Stewart', 'good boy', 10),\n",
       " ('Godzilla', 'iguana', 1),\n",
       " ('Marshmallow', 'polar bear', 4),\n",
       " ('Justin Timbersnake', 'snek', 2),\n",
       " ('Pawtrick Stewart', 'good boy', 10),\n",
       " ('Godzilla', 'iguana', 1),\n",
       " ('Marshmallow', 'polar bear', 4),\n",
       " ('Justin Timbersnake', 'snek', 2),\n",
       " ('Pawtrick Stewart', 'good boy', 10),\n",
       " ('Godzilla', 'iguana', 1),\n",
       " ('Marshmallow', 'polar bear', 4)]"
      ]
     },
     "execution_count": 25,
     "metadata": {},
     "output_type": "execute_result"
    }
   ],
   "source": [
    "# query the database\n",
    "session.query(Pet.name, Pet.type, Pet.age).all()"
   ]
  },
  {
   "cell_type": "markdown",
   "metadata": {},
   "source": [
    "## Update Data"
   ]
  },
  {
   "cell_type": "code",
   "execution_count": 26,
   "metadata": {},
   "outputs": [],
   "source": [
    "# Create a query and then run update on it\n",
    "pet = session.query(Pet).filter_by(name=\"Marshmallow\").first()\n",
    "pet.age += 1"
   ]
  },
  {
   "cell_type": "code",
   "execution_count": 27,
   "metadata": {},
   "outputs": [
    {
     "data": {
      "text/plain": [
       "IdentitySet([<__main__.Pet object at 0x000001D9E58686A0>])"
      ]
     },
     "execution_count": 27,
     "metadata": {},
     "output_type": "execute_result"
    }
   ],
   "source": [
    "# For modifications, we can use the dirty attribute\n",
    "session.dirty"
   ]
  },
  {
   "cell_type": "code",
   "execution_count": 28,
   "metadata": {},
   "outputs": [],
   "source": [
    "# Commit Transaction\n",
    "session.commit()"
   ]
  },
  {
   "cell_type": "code",
   "execution_count": 29,
   "metadata": {},
   "outputs": [
    {
     "data": {
      "text/plain": [
       "IdentitySet([])"
      ]
     },
     "execution_count": 29,
     "metadata": {},
     "output_type": "execute_result"
    }
   ],
   "source": [
    "# Session is up-to-date\n",
    "session.dirty"
   ]
  },
  {
   "cell_type": "code",
   "execution_count": 30,
   "metadata": {},
   "outputs": [
    {
     "data": {
      "text/plain": [
       "[(1, 'Justin Timbersnake', 'snek', 2),\n",
       " (2, 'Pawtrick Stewart', 'good boy', 10),\n",
       " (3, 'Godzilla', 'iguana', 1),\n",
       " (4, 'Marshmallow', 'polar bear', 5),\n",
       " (5, 'Justin Timbersnake', 'snek', 2),\n",
       " (6, 'Pawtrick Stewart', 'good boy', 10),\n",
       " (7, 'Godzilla', 'iguana', 1),\n",
       " (8, 'Marshmallow', 'polar bear', 4),\n",
       " (9, 'Justin Timbersnake', 'snek', 2),\n",
       " (10, 'Pawtrick Stewart', 'good boy', 10),\n",
       " (11, 'Godzilla', 'iguana', 1),\n",
       " (12, 'Marshmallow', 'polar bear', 4)]"
      ]
     },
     "execution_count": 30,
     "metadata": {},
     "output_type": "execute_result"
    }
   ],
   "source": [
    "session.query(Pet.id, Pet.name, Pet.type, Pet.age).all()"
   ]
  },
  {
   "cell_type": "markdown",
   "metadata": {},
   "source": [
    "## Delete Data"
   ]
  },
  {
   "cell_type": "code",
   "execution_count": 31,
   "metadata": {},
   "outputs": [],
   "source": [
    "# Create a query and then delete the row collected\n",
    "pet = session.query(Pet).filter_by(id=4).one()\n",
    "session.delete(pet)"
   ]
  },
  {
   "cell_type": "code",
   "execution_count": 32,
   "metadata": {},
   "outputs": [
    {
     "data": {
      "text/plain": [
       "IdentitySet([<__main__.Pet object at 0x000001D9E58686A0>])"
      ]
     },
     "execution_count": 32,
     "metadata": {},
     "output_type": "execute_result"
    }
   ],
   "source": [
    "session.deleted"
   ]
  },
  {
   "cell_type": "code",
   "execution_count": 33,
   "metadata": {},
   "outputs": [],
   "source": [
    "session.commit()"
   ]
  },
  {
   "cell_type": "code",
   "execution_count": 34,
   "metadata": {},
   "outputs": [
    {
     "data": {
      "text/plain": [
       "IdentitySet([])"
      ]
     },
     "execution_count": 34,
     "metadata": {},
     "output_type": "execute_result"
    }
   ],
   "source": [
    "session.deleted"
   ]
  },
  {
   "cell_type": "code",
   "execution_count": 35,
   "metadata": {},
   "outputs": [
    {
     "data": {
      "text/plain": [
       "[(1, 'Justin Timbersnake', 'snek', 2),\n",
       " (2, 'Pawtrick Stewart', 'good boy', 10),\n",
       " (3, 'Godzilla', 'iguana', 1),\n",
       " (5, 'Justin Timbersnake', 'snek', 2),\n",
       " (6, 'Pawtrick Stewart', 'good boy', 10),\n",
       " (7, 'Godzilla', 'iguana', 1),\n",
       " (8, 'Marshmallow', 'polar bear', 4),\n",
       " (9, 'Justin Timbersnake', 'snek', 2),\n",
       " (10, 'Pawtrick Stewart', 'good boy', 10),\n",
       " (11, 'Godzilla', 'iguana', 1),\n",
       " (12, 'Marshmallow', 'polar bear', 4)]"
      ]
     },
     "execution_count": 35,
     "metadata": {},
     "output_type": "execute_result"
    }
   ],
   "source": [
    "session.query(Pet.id, Pet.name, Pet.type, Pet.age).all()"
   ]
  },
  {
   "cell_type": "code",
   "execution_count": 36,
   "metadata": {},
   "outputs": [],
   "source": [
    "# Close the session\n",
    "session.close()"
   ]
  }
 ],
 "metadata": {
  "kernelspec": {
   "display_name": "Python 3",
   "language": "python",
   "name": "python3"
  },
  "language_info": {
   "codemirror_mode": {
    "name": "ipython",
    "version": 3
   },
   "file_extension": ".py",
   "mimetype": "text/x-python",
   "name": "python",
   "nbconvert_exporter": "python",
   "pygments_lexer": "ipython3",
   "version": "3.8.5"
  },
  "varInspector": {
   "cols": {
    "lenName": 16,
    "lenType": 16,
    "lenVar": 40
   },
   "kernels_config": {
    "python": {
     "delete_cmd_postfix": "",
     "delete_cmd_prefix": "del ",
     "library": "var_list.py",
     "varRefreshCmd": "print(var_dic_list())"
    },
    "r": {
     "delete_cmd_postfix": ") ",
     "delete_cmd_prefix": "rm(",
     "library": "var_list.r",
     "varRefreshCmd": "cat(var_dic_list()) "
    }
   },
   "types_to_exclude": [
    "module",
    "function",
    "builtin_function_or_method",
    "instance",
    "_Feature"
   ],
   "window_display": false
  }
 },
 "nbformat": 4,
 "nbformat_minor": 4
}
