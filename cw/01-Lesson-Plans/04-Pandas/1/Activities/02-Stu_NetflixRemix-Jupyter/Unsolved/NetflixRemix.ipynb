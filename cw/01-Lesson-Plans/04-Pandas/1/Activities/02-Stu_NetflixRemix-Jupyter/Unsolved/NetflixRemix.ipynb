{
 "cells": [
  {
   "cell_type": "code",
   "execution_count": 29,
   "metadata": {},
   "outputs": [],
   "source": [
    "# Modules\n",
    "import os\n",
    "import csv"
   ]
  },
  {
   "cell_type": "code",
   "execution_count": 30,
   "metadata": {},
   "outputs": [
    {
     "name": "stdout",
     "output_type": "stream",
     "text": [
      "What is the show or movie are you looking for? adsd\n"
     ]
    }
   ],
   "source": [
    "movie = input(\"What is the show or movie are you looking for? \")"
   ]
  },
  {
   "cell_type": "code",
   "execution_count": 32,
   "metadata": {},
   "outputs": [
    {
     "name": "stdout",
     "output_type": "stream",
     "text": [
      "Resources\\netflix_ratings.csv\n"
     ]
    }
   ],
   "source": [
    "filepath = os.path.join(\"Resources\",\"netflix_ratings.csv\")\n",
    "print(filepath)"
   ]
  },
  {
   "cell_type": "code",
   "execution_count": 33,
   "metadata": {},
   "outputs": [
    {
     "name": "stdout",
     "output_type": "stream",
     "text": [
      "We don't seem to have what you are looking for!\n"
     ]
    }
   ],
   "source": [
    "found = False\n",
    "with open(filepath) as csvfile:\n",
    "    csvfile_reader = csv.reader(csvfile,delimiter = ',')\n",
    "    \n",
    "    for row in csvfile_reader:\n",
    "        if row[0] == movie:\n",
    "            print(row[0] + \" is rated \" + row[1] +\n",
    "                  \" with a rating of \" + row[5])\n",
    "            found = True\n",
    "    \n",
    "    if found == False:\n",
    "        print(\"We don't seem to have what you are looking for!\")"
   ]
  },
  {
   "cell_type": "code",
   "execution_count": null,
   "metadata": {},
   "outputs": [],
   "source": []
  }
 ],
 "metadata": {
  "kernelspec": {
   "display_name": "Python 3",
   "language": "python",
   "name": "python3"
  },
  "language_info": {
   "codemirror_mode": {
    "name": "ipython",
    "version": 3
   },
   "file_extension": ".py",
   "mimetype": "text/x-python",
   "name": "python",
   "nbconvert_exporter": "python",
   "pygments_lexer": "ipython3",
   "version": "3.8.5"
  }
 },
 "nbformat": 4,
 "nbformat_minor": 2
}
