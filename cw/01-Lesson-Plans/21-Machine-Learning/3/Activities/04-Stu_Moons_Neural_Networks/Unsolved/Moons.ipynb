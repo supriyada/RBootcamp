{
 "cells": [
  {
   "cell_type": "code",
   "execution_count": 1,
   "metadata": {},
   "outputs": [],
   "source": [
    "# Set the seed value for the notebook so the results are reproducible\n",
    "from numpy.random import seed\n",
    "seed(1)"
   ]
  },
  {
   "cell_type": "code",
   "execution_count": 2,
   "metadata": {},
   "outputs": [],
   "source": [
    "%matplotlib inline\n",
    "import matplotlib.pyplot as plt\n",
    "import numpy as np\n",
    "import sklearn\n",
    "import sklearn.datasets"
   ]
  },
  {
   "cell_type": "code",
   "execution_count": 3,
   "metadata": {},
   "outputs": [],
   "source": [
    "X, y = sklearn.datasets.make_moons(200, noise=0.05)"
   ]
  },
  {
   "cell_type": "code",
   "execution_count": 4,
   "metadata": {},
   "outputs": [
    {
     "data": {
      "text/plain": [
       "<matplotlib.collections.PathCollection at 0x26f402d7310>"
      ]
     },
     "execution_count": 4,
     "metadata": {},
     "output_type": "execute_result"
    },
    {
     "data": {
      "image/png": "[encoded data removed]",
      "text/plain": [
       "<Figure size 432x288 with 1 Axes>"
      ]
     },
     "metadata": {
      "needs_background": "light"
     },
     "output_type": "display_data"
    }
   ],
   "source": [
    "plt.scatter(X[:, 0], X[:, 1], c=y)"
   ]
  },
  {
   "cell_type": "code",
   "execution_count": 6,
   "metadata": {
    "nbgrader": {
     "grade": false,
     "grade_id": "cell-25fb99ba413a3271",
     "locked": false,
     "schema_version": 1,
     "solution": true
    }
   },
   "outputs": [],
   "source": [
    "# Use train_test_split to create training and testing data\n",
    "from sklearn.model_selection import train_test_split\n",
    "X_train, X_test, y_train, y_test = train_test_split(X, y, random_state = 42)"
   ]
  },
  {
   "cell_type": "code",
   "execution_count": 7,
   "metadata": {
    "nbgrader": {
     "grade": false,
     "grade_id": "cell-7e1de5d9b7942f68",
     "locked": false,
     "schema_version": 1,
     "solution": true
    }
   },
   "outputs": [],
   "source": [
    "from sklearn.preprocessing import StandardScaler\n",
    "\n",
    "# Create a StandardScater model and fit it to the training data\n",
    "X_scaler = StandardScaler().fit(X_train)"
   ]
  },
  {
   "cell_type": "code",
   "execution_count": 8,
   "metadata": {
    "nbgrader": {
     "grade": false,
     "grade_id": "cell-9532e12246e485d5",
     "locked": false,
     "schema_version": 1,
     "solution": true
    }
   },
   "outputs": [],
   "source": [
    "# Transform the training and testing data using the X_scaler\n",
    "\n",
    "X_train_scaled = X_scaler.transform(X_train)\n",
    "X_test_scaled = X_scaler.transform(X_test)"
   ]
  },
  {
   "cell_type": "code",
   "execution_count": 9,
   "metadata": {},
   "outputs": [],
   "source": [
    "from tensorflow.keras.utils import to_categorical"
   ]
  },
  {
   "cell_type": "code",
   "execution_count": 11,
   "metadata": {},
   "outputs": [],
   "source": [
    "# One-hot encoding\n",
    "y_train_categorical = to_categorical(y_train)\n",
    "y_test_categorical = to_categorical(y_test)"
   ]
  },
  {
   "cell_type": "code",
   "execution_count": 12,
   "metadata": {
    "nbgrader": {
     "grade": false,
     "grade_id": "cell-ec399a95e133cb58",
     "locked": false,
     "schema_version": 1,
     "solution": true
    }
   },
   "outputs": [],
   "source": [
    "# first, create a normal neural network with 2 inputs, 6 hidden nodes, and 2 outputs\n",
    "from tensorflow.keras.models import Sequential\n",
    "from tensorflow.keras.layers import Dense\n",
    "\n",
    "model = Sequential()\n",
    "model.add(Dense(units=6, activation='relu', input_dim=2))\n",
    "model.add(Dense(units=2, activation='softmax'))"
   ]
  },
  {
   "cell_type": "code",
   "execution_count": 13,
   "metadata": {},
   "outputs": [
    {
     "name": "stdout",
     "output_type": "stream",
     "text": [
      "Model: \"sequential\"\n",
      "_________________________________________________________________\n",
      "Layer (type)                 Output Shape              Param #   \n",
      "=================================================================\n",
      "dense (Dense)                (None, 6)                 18        \n",
      "_________________________________________________________________\n",
      "dense_1 (Dense)              (None, 2)                 14        \n",
      "=================================================================\n",
      "Total params: 32\n",
      "Trainable params: 32\n",
      "Non-trainable params: 0\n",
      "_________________________________________________________________\n"
     ]
    }
   ],
   "source": [
    "model.summary()"
   ]
  },
  {
   "cell_type": "code",
   "execution_count": 14,
   "metadata": {},
   "outputs": [],
   "source": [
    "# Compile the model\n",
    "model.compile(optimizer='adam',\n",
    "              loss='categorical_crossentropy',\n",
    "              metrics=['accuracy'])"
   ]
  },
  {
   "cell_type": "code",
   "execution_count": 15,
   "metadata": {
    "nbgrader": {
     "grade": false,
     "grade_id": "cell-5cf2fbdbea0ed50b",
     "locked": false,
     "schema_version": 1,
     "solution": true
    }
   },
   "outputs": [
    {
     "name": "stdout",
     "output_type": "stream",
     "text": [
      "Epoch 1/100\n",
      "5/5 - 0s - loss: 0.6356 - accuracy: 0.5667\n",
      "Epoch 2/100\n",
      "5/5 - 0s - loss: 0.6288 - accuracy: 0.5667\n",
      "Epoch 3/100\n",
      "5/5 - 0s - loss: 0.6220 - accuracy: 0.6067\n",
      "Epoch 4/100\n",
      "5/5 - 0s - loss: 0.6151 - accuracy: 0.6333\n",
      "Epoch 5/100\n",
      "5/5 - 0s - loss: 0.6088 - accuracy: 0.6467\n",
      "Epoch 6/100\n",
      "5/5 - 0s - loss: 0.6019 - accuracy: 0.6667\n",
      "Epoch 7/100\n",
      "5/5 - 0s - loss: 0.5955 - accuracy: 0.6933\n",
      "Epoch 8/100\n",
      "5/5 - 0s - loss: 0.5891 - accuracy: 0.7867\n",
      "Epoch 9/100\n",
      "5/5 - 0s - loss: 0.5827 - accuracy: 0.8133\n",
      "Epoch 10/100\n",
      "5/5 - 0s - loss: 0.5765 - accuracy: 0.8133\n",
      "Epoch 11/100\n",
      "5/5 - 0s - loss: 0.5700 - accuracy: 0.8133\n",
      "Epoch 12/100\n",
      "5/5 - 0s - loss: 0.5640 - accuracy: 0.8133\n",
      "Epoch 13/100\n",
      "5/5 - 0s - loss: 0.5577 - accuracy: 0.8133\n",
      "Epoch 14/100\n",
      "5/5 - 0s - loss: 0.5517 - accuracy: 0.8133\n",
      "Epoch 15/100\n",
      "5/5 - 0s - loss: 0.5455 - accuracy: 0.8200\n",
      "Epoch 16/100\n",
      "5/5 - 0s - loss: 0.5392 - accuracy: 0.8267\n",
      "Epoch 17/100\n",
      "5/5 - 0s - loss: 0.5332 - accuracy: 0.8267\n",
      "Epoch 18/100\n",
      "5/5 - 0s - loss: 0.5270 - accuracy: 0.8267\n",
      "Epoch 19/100\n",
      "5/5 - 0s - loss: 0.5211 - accuracy: 0.8267\n",
      "Epoch 20/100\n",
      "5/5 - 0s - loss: 0.5151 - accuracy: 0.8267\n",
      "Epoch 21/100\n",
      "5/5 - 0s - loss: 0.5086 - accuracy: 0.8267\n",
      "Epoch 22/100\n",
      "5/5 - 0s - loss: 0.5028 - accuracy: 0.8267\n",
      "Epoch 23/100\n",
      "5/5 - 0s - loss: 0.4962 - accuracy: 0.8267\n",
      "Epoch 24/100\n",
      "5/5 - 0s - loss: 0.4902 - accuracy: 0.8267\n",
      "Epoch 25/100\n",
      "5/5 - 0s - loss: 0.4842 - accuracy: 0.8267\n",
      "Epoch 26/100\n",
      "5/5 - 0s - loss: 0.4779 - accuracy: 0.8267\n",
      "Epoch 27/100\n",
      "5/5 - 0s - loss: 0.4719 - accuracy: 0.8333\n",
      "Epoch 28/100\n",
      "5/5 - 0s - loss: 0.4654 - accuracy: 0.8333\n",
      "Epoch 29/100\n",
      "5/5 - 0s - loss: 0.4594 - accuracy: 0.8333\n",
      "Epoch 30/100\n",
      "5/5 - 0s - loss: 0.4535 - accuracy: 0.8333\n",
      "Epoch 31/100\n",
      "5/5 - 0s - loss: 0.4474 - accuracy: 0.8400\n",
      "Epoch 32/100\n",
      "5/5 - 0s - loss: 0.4416 - accuracy: 0.8400\n",
      "Epoch 33/100\n",
      "5/5 - 0s - loss: 0.4360 - accuracy: 0.8400\n",
      "Epoch 34/100\n",
      "5/5 - 0s - loss: 0.4301 - accuracy: 0.8400\n",
      "Epoch 35/100\n",
      "5/5 - 0s - loss: 0.4245 - accuracy: 0.8400\n",
      "Epoch 36/100\n",
      "5/5 - 0s - loss: 0.4192 - accuracy: 0.8400\n",
      "Epoch 37/100\n",
      "5/5 - 0s - loss: 0.4139 - accuracy: 0.8400\n",
      "Epoch 38/100\n",
      "5/5 - 0s - loss: 0.4087 - accuracy: 0.8400\n",
      "Epoch 39/100\n",
      "5/5 - 0s - loss: 0.4032 - accuracy: 0.8400\n",
      "Epoch 40/100\n",
      "5/5 - 0s - loss: 0.3986 - accuracy: 0.8400\n",
      "Epoch 41/100\n",
      "5/5 - 0s - loss: 0.3939 - accuracy: 0.8400\n",
      "Epoch 42/100\n",
      "5/5 - 0s - loss: 0.3892 - accuracy: 0.8400\n",
      "Epoch 43/100\n",
      "5/5 - 0s - loss: 0.3846 - accuracy: 0.8400\n",
      "Epoch 44/100\n",
      "5/5 - 0s - loss: 0.3806 - accuracy: 0.8400\n",
      "Epoch 45/100\n",
      "5/5 - 0s - loss: 0.3760 - accuracy: 0.8400\n",
      "Epoch 46/100\n",
      "5/5 - 0s - loss: 0.3721 - accuracy: 0.8400\n",
      "Epoch 47/100\n",
      "5/5 - 0s - loss: 0.3682 - accuracy: 0.8400\n",
      "Epoch 48/100\n",
      "5/5 - 0s - loss: 0.3644 - accuracy: 0.8400\n",
      "Epoch 49/100\n",
      "5/5 - 0s - loss: 0.3607 - accuracy: 0.8467\n",
      "Epoch 50/100\n",
      "5/5 - 0s - loss: 0.3568 - accuracy: 0.8467\n",
      "Epoch 51/100\n",
      "5/5 - 0s - loss: 0.3535 - accuracy: 0.8467\n",
      "Epoch 52/100\n",
      "5/5 - 0s - loss: 0.3501 - accuracy: 0.8467\n",
      "Epoch 53/100\n",
      "5/5 - 0s - loss: 0.3468 - accuracy: 0.8467\n",
      "Epoch 54/100\n",
      "5/5 - 0s - loss: 0.3435 - accuracy: 0.8467\n",
      "Epoch 55/100\n",
      "5/5 - 0s - loss: 0.3407 - accuracy: 0.8467\n",
      "Epoch 56/100\n",
      "5/5 - 0s - loss: 0.3376 - accuracy: 0.8467\n",
      "Epoch 57/100\n",
      "5/5 - 0s - loss: 0.3351 - accuracy: 0.8533\n",
      "Epoch 58/100\n",
      "5/5 - 0s - loss: 0.3322 - accuracy: 0.8533\n",
      "Epoch 59/100\n",
      "5/5 - 0s - loss: 0.3298 - accuracy: 0.8533\n",
      "Epoch 60/100\n",
      "5/5 - 0s - loss: 0.3273 - accuracy: 0.8600\n",
      "Epoch 61/100\n",
      "5/5 - 0s - loss: 0.3251 - accuracy: 0.8600\n",
      "Epoch 62/100\n",
      "5/5 - 0s - loss: 0.3227 - accuracy: 0.8600\n",
      "Epoch 63/100\n",
      "5/5 - 0s - loss: 0.3205 - accuracy: 0.8600\n",
      "Epoch 64/100\n",
      "5/5 - 0s - loss: 0.3184 - accuracy: 0.8600\n",
      "Epoch 65/100\n",
      "5/5 - 0s - loss: 0.3164 - accuracy: 0.8600\n",
      "Epoch 66/100\n",
      "5/5 - 0s - loss: 0.3143 - accuracy: 0.8667\n",
      "Epoch 67/100\n",
      "5/5 - 0s - loss: 0.3126 - accuracy: 0.8733\n",
      "Epoch 68/100\n",
      "5/5 - 0s - loss: 0.3107 - accuracy: 0.8733\n",
      "Epoch 69/100\n",
      "5/5 - 0s - loss: 0.3092 - accuracy: 0.8733\n",
      "Epoch 70/100\n",
      "5/5 - 0s - loss: 0.3074 - accuracy: 0.8733\n",
      "Epoch 71/100\n",
      "5/5 - 0s - loss: 0.3057 - accuracy: 0.8733\n",
      "Epoch 72/100\n",
      "5/5 - 0s - loss: 0.3042 - accuracy: 0.8733\n",
      "Epoch 73/100\n",
      "5/5 - 0s - loss: 0.3027 - accuracy: 0.8733\n",
      "Epoch 74/100\n",
      "5/5 - 0s - loss: 0.3014 - accuracy: 0.8733\n",
      "Epoch 75/100\n",
      "5/5 - 0s - loss: 0.3000 - accuracy: 0.8733\n",
      "Epoch 76/100\n",
      "5/5 - 0s - loss: 0.2985 - accuracy: 0.8733\n",
      "Epoch 77/100\n",
      "5/5 - 0s - loss: 0.2973 - accuracy: 0.8733\n",
      "Epoch 78/100\n",
      "5/5 - 0s - loss: 0.2960 - accuracy: 0.8733\n",
      "Epoch 79/100\n",
      "5/5 - 0s - loss: 0.2947 - accuracy: 0.8733\n",
      "Epoch 80/100\n",
      "5/5 - 0s - loss: 0.2937 - accuracy: 0.8733\n",
      "Epoch 81/100\n",
      "5/5 - 0s - loss: 0.2925 - accuracy: 0.8733\n",
      "Epoch 82/100\n",
      "5/5 - 0s - loss: 0.2913 - accuracy: 0.8733\n",
      "Epoch 83/100\n",
      "5/5 - 0s - loss: 0.2901 - accuracy: 0.8733\n",
      "Epoch 84/100\n",
      "5/5 - 0s - loss: 0.2892 - accuracy: 0.8733\n",
      "Epoch 85/100\n",
      "5/5 - 0s - loss: 0.2882 - accuracy: 0.8733\n",
      "Epoch 86/100\n",
      "5/5 - 0s - loss: 0.2873 - accuracy: 0.8733\n",
      "Epoch 87/100\n",
      "5/5 - 0s - loss: 0.2864 - accuracy: 0.8733\n",
      "Epoch 88/100\n",
      "5/5 - 0s - loss: 0.2854 - accuracy: 0.8733\n",
      "Epoch 89/100\n",
      "5/5 - 0s - loss: 0.2845 - accuracy: 0.8733\n",
      "Epoch 90/100\n",
      "5/5 - 0s - loss: 0.2837 - accuracy: 0.8733\n",
      "Epoch 91/100\n",
      "5/5 - 0s - loss: 0.2829 - accuracy: 0.8800\n",
      "Epoch 92/100\n",
      "5/5 - 0s - loss: 0.2821 - accuracy: 0.8800\n",
      "Epoch 93/100\n",
      "5/5 - 0s - loss: 0.2815 - accuracy: 0.8800\n",
      "Epoch 94/100\n",
      "5/5 - 0s - loss: 0.2807 - accuracy: 0.8867\n",
      "Epoch 95/100\n",
      "5/5 - 0s - loss: 0.2800 - accuracy: 0.8867\n",
      "Epoch 96/100\n",
      "5/5 - 0s - loss: 0.2792 - accuracy: 0.8933\n",
      "Epoch 97/100\n",
      "5/5 - 0s - loss: 0.2787 - accuracy: 0.8933\n",
      "Epoch 98/100\n",
      "5/5 - 0s - loss: 0.2781 - accuracy: 0.8933\n",
      "Epoch 99/100\n",
      "5/5 - 0s - loss: 0.2774 - accuracy: 0.8933\n",
      "Epoch 100/100\n",
      "5/5 - 0s - loss: 0.2768 - accuracy: 0.8933\n"
     ]
    },
    {
     "data": {
      "text/plain": [
       "<tensorflow.python.keras.callbacks.History at 0x26f49970df0>"
      ]
     },
     "execution_count": 15,
     "metadata": {},
     "output_type": "execute_result"
    }
   ],
   "source": [
    "# Fit the model to the training data\n",
    "model.fit(X_train_scaled, y_train_categorical, epochs = 100, shuffle = True, verbose = 2)"
   ]
  },
  {
   "cell_type": "markdown",
   "metadata": {},
   "source": [
    "# Deep Learning\n",
    "For this network, we simply add an additional hidden layer of 6 nodes"
   ]
  },
  {
   "cell_type": "code",
   "execution_count": 16,
   "metadata": {},
   "outputs": [],
   "source": [
    "deep_model = Sequential()\n",
    "deep_model.add(Dense(units=6, activation='relu', input_dim=2))\n",
    "deep_model.add(Dense(units=6, activation='relu'))\n",
    "deep_model.add(Dense(units=2, activation='softmax'))"
   ]
  },
  {
   "cell_type": "code",
   "execution_count": 17,
   "metadata": {},
   "outputs": [
    {
     "name": "stdout",
     "output_type": "stream",
     "text": [
      "Model: \"sequential_1\"\n",
      "_________________________________________________________________\n",
      "Layer (type)                 Output Shape              Param #   \n",
      "=================================================================\n",
      "dense_2 (Dense)              (None, 6)                 18        \n",
      "_________________________________________________________________\n",
      "dense_3 (Dense)              (None, 6)                 42        \n",
      "_________________________________________________________________\n",
      "dense_4 (Dense)              (None, 2)                 14        \n",
      "=================================================================\n",
      "Total params: 74\n",
      "Trainable params: 74\n",
      "Non-trainable params: 0\n",
      "_________________________________________________________________\n"
     ]
    }
   ],
   "source": [
    "deep_model.summary()"
   ]
  },
  {
   "cell_type": "code",
   "execution_count": 19,
   "metadata": {},
   "outputs": [
    {
     "name": "stdout",
     "output_type": "stream",
     "text": [
      "Epoch 1/100\n",
      "5/5 - 0s - loss: 0.7149 - accuracy: 0.3867\n",
      "Epoch 2/100\n",
      "5/5 - 0s - loss: 0.7063 - accuracy: 0.4933\n",
      "Epoch 3/100\n",
      "5/5 - 0s - loss: 0.6978 - accuracy: 0.5533\n",
      "Epoch 4/100\n",
      "5/5 - 0s - loss: 0.6909 - accuracy: 0.5800\n",
      "Epoch 5/100\n",
      "5/5 - 0s - loss: 0.6840 - accuracy: 0.5933\n",
      "Epoch 6/100\n",
      "5/5 - 0s - loss: 0.6772 - accuracy: 0.5933\n",
      "Epoch 7/100\n",
      "5/5 - 0s - loss: 0.6702 - accuracy: 0.6533\n",
      "Epoch 8/100\n",
      "5/5 - 0s - loss: 0.6643 - accuracy: 0.8000\n",
      "Epoch 9/100\n",
      "5/5 - 0s - loss: 0.6583 - accuracy: 0.8333\n",
      "Epoch 10/100\n",
      "5/5 - 0s - loss: 0.6526 - accuracy: 0.8400\n",
      "Epoch 11/100\n",
      "5/5 - 0s - loss: 0.6472 - accuracy: 0.8467\n",
      "Epoch 12/100\n",
      "5/5 - 0s - loss: 0.6414 - accuracy: 0.8467\n",
      "Epoch 13/100\n",
      "5/5 - 0s - loss: 0.6360 - accuracy: 0.8467\n",
      "Epoch 14/100\n",
      "5/5 - 0s - loss: 0.6303 - accuracy: 0.8467\n",
      "Epoch 15/100\n",
      "5/5 - 0s - loss: 0.6248 - accuracy: 0.8467\n",
      "Epoch 16/100\n",
      "5/5 - 0s - loss: 0.6186 - accuracy: 0.8533\n",
      "Epoch 17/100\n",
      "5/5 - 0s - loss: 0.6124 - accuracy: 0.8533\n",
      "Epoch 18/100\n",
      "5/5 - 0s - loss: 0.6062 - accuracy: 0.8533\n",
      "Epoch 19/100\n",
      "5/5 - 0s - loss: 0.5993 - accuracy: 0.8533\n",
      "Epoch 20/100\n",
      "5/5 - 0s - loss: 0.5924 - accuracy: 0.8533\n",
      "Epoch 21/100\n",
      "5/5 - 0s - loss: 0.5856 - accuracy: 0.8533\n",
      "Epoch 22/100\n",
      "5/5 - 0s - loss: 0.5783 - accuracy: 0.8533\n",
      "Epoch 23/100\n",
      "5/5 - 0s - loss: 0.5705 - accuracy: 0.8600\n",
      "Epoch 24/100\n",
      "5/5 - 0s - loss: 0.5629 - accuracy: 0.8600\n",
      "Epoch 25/100\n",
      "5/5 - 0s - loss: 0.5551 - accuracy: 0.8600\n",
      "Epoch 26/100\n",
      "5/5 - 0s - loss: 0.5472 - accuracy: 0.8600\n",
      "Epoch 27/100\n",
      "5/5 - 0s - loss: 0.5390 - accuracy: 0.8600\n",
      "Epoch 28/100\n",
      "5/5 - 0s - loss: 0.5305 - accuracy: 0.8600\n",
      "Epoch 29/100\n",
      "5/5 - 0s - loss: 0.5217 - accuracy: 0.8600\n",
      "Epoch 30/100\n",
      "5/5 - 0s - loss: 0.5130 - accuracy: 0.8600\n",
      "Epoch 31/100\n",
      "5/5 - 0s - loss: 0.5042 - accuracy: 0.8600\n",
      "Epoch 32/100\n",
      "5/5 - 0s - loss: 0.4955 - accuracy: 0.8600\n",
      "Epoch 33/100\n",
      "5/5 - 0s - loss: 0.4866 - accuracy: 0.8600\n",
      "Epoch 34/100\n",
      "5/5 - 0s - loss: 0.4776 - accuracy: 0.8600\n",
      "Epoch 35/100\n",
      "5/5 - 0s - loss: 0.4685 - accuracy: 0.8600\n",
      "Epoch 36/100\n",
      "5/5 - 0s - loss: 0.4597 - accuracy: 0.8600\n",
      "Epoch 37/100\n",
      "5/5 - 0s - loss: 0.4509 - accuracy: 0.8600\n",
      "Epoch 38/100\n",
      "5/5 - 0s - loss: 0.4425 - accuracy: 0.8600\n",
      "Epoch 39/100\n",
      "5/5 - 0s - loss: 0.4340 - accuracy: 0.8600\n",
      "Epoch 40/100\n",
      "5/5 - 0s - loss: 0.4257 - accuracy: 0.8600\n",
      "Epoch 41/100\n",
      "5/5 - 0s - loss: 0.4176 - accuracy: 0.8600\n",
      "Epoch 42/100\n",
      "5/5 - 0s - loss: 0.4098 - accuracy: 0.8600\n",
      "Epoch 43/100\n",
      "5/5 - 0s - loss: 0.4017 - accuracy: 0.8600\n",
      "Epoch 44/100\n",
      "5/5 - 0s - loss: 0.3942 - accuracy: 0.8600\n",
      "Epoch 45/100\n",
      "5/5 - 0s - loss: 0.3873 - accuracy: 0.8600\n",
      "Epoch 46/100\n",
      "5/5 - 0s - loss: 0.3806 - accuracy: 0.8600\n",
      "Epoch 47/100\n",
      "5/5 - 0s - loss: 0.3736 - accuracy: 0.8600\n",
      "Epoch 48/100\n",
      "5/5 - 0s - loss: 0.3679 - accuracy: 0.8600\n",
      "Epoch 49/100\n",
      "5/5 - 0s - loss: 0.3616 - accuracy: 0.8600\n",
      "Epoch 50/100\n",
      "5/5 - 0s - loss: 0.3562 - accuracy: 0.8600\n",
      "Epoch 51/100\n",
      "5/5 - 0s - loss: 0.3506 - accuracy: 0.8600\n",
      "Epoch 52/100\n",
      "5/5 - 0s - loss: 0.3456 - accuracy: 0.8600\n",
      "Epoch 53/100\n",
      "5/5 - 0s - loss: 0.3412 - accuracy: 0.8600\n",
      "Epoch 54/100\n",
      "5/5 - 0s - loss: 0.3362 - accuracy: 0.8600\n",
      "Epoch 55/100\n",
      "5/5 - 0s - loss: 0.3319 - accuracy: 0.8600\n",
      "Epoch 56/100\n",
      "5/5 - 0s - loss: 0.3275 - accuracy: 0.8667\n",
      "Epoch 57/100\n",
      "5/5 - 0s - loss: 0.3237 - accuracy: 0.8667\n",
      "Epoch 58/100\n",
      "5/5 - 0s - loss: 0.3200 - accuracy: 0.8667\n",
      "Epoch 59/100\n",
      "5/5 - 0s - loss: 0.3163 - accuracy: 0.8667\n",
      "Epoch 60/100\n",
      "5/5 - 0s - loss: 0.3128 - accuracy: 0.8667\n",
      "Epoch 61/100\n",
      "5/5 - 0s - loss: 0.3099 - accuracy: 0.8667\n",
      "Epoch 62/100\n",
      "5/5 - 0s - loss: 0.3065 - accuracy: 0.8667\n",
      "Epoch 63/100\n",
      "5/5 - 0s - loss: 0.3040 - accuracy: 0.8667\n",
      "Epoch 64/100\n",
      "5/5 - 0s - loss: 0.3013 - accuracy: 0.8733\n",
      "Epoch 65/100\n",
      "5/5 - 0s - loss: 0.2987 - accuracy: 0.8733\n",
      "Epoch 66/100\n",
      "5/5 - 0s - loss: 0.2961 - accuracy: 0.8733\n",
      "Epoch 67/100\n",
      "5/5 - 0s - loss: 0.2942 - accuracy: 0.8733\n",
      "Epoch 68/100\n",
      "5/5 - 0s - loss: 0.2918 - accuracy: 0.8733\n",
      "Epoch 69/100\n",
      "5/5 - 0s - loss: 0.2897 - accuracy: 0.8733\n",
      "Epoch 70/100\n",
      "5/5 - 0s - loss: 0.2876 - accuracy: 0.8733\n",
      "Epoch 71/100\n",
      "5/5 - 0s - loss: 0.2856 - accuracy: 0.8733\n",
      "Epoch 72/100\n",
      "5/5 - 0s - loss: 0.2838 - accuracy: 0.8733\n",
      "Epoch 73/100\n",
      "5/5 - 0s - loss: 0.2819 - accuracy: 0.8733\n",
      "Epoch 74/100\n",
      "5/5 - 0s - loss: 0.2802 - accuracy: 0.8733\n",
      "Epoch 75/100\n",
      "5/5 - 0s - loss: 0.2785 - accuracy: 0.8733\n",
      "Epoch 76/100\n",
      "5/5 - 0s - loss: 0.2769 - accuracy: 0.8733\n",
      "Epoch 77/100\n",
      "5/5 - 0s - loss: 0.2751 - accuracy: 0.8733\n",
      "Epoch 78/100\n",
      "5/5 - 0s - loss: 0.2737 - accuracy: 0.8733\n",
      "Epoch 79/100\n",
      "5/5 - 0s - loss: 0.2722 - accuracy: 0.8733\n",
      "Epoch 80/100\n",
      "5/5 - 0s - loss: 0.2707 - accuracy: 0.8733\n",
      "Epoch 81/100\n",
      "5/5 - 0s - loss: 0.2693 - accuracy: 0.8733\n",
      "Epoch 82/100\n",
      "5/5 - 0s - loss: 0.2681 - accuracy: 0.8733\n",
      "Epoch 83/100\n",
      "5/5 - 0s - loss: 0.2667 - accuracy: 0.8733\n",
      "Epoch 84/100\n",
      "5/5 - 0s - loss: 0.2655 - accuracy: 0.8733\n",
      "Epoch 85/100\n",
      "5/5 - 0s - loss: 0.2643 - accuracy: 0.8733\n",
      "Epoch 86/100\n",
      "5/5 - 0s - loss: 0.2629 - accuracy: 0.8733\n",
      "Epoch 87/100\n",
      "5/5 - 0s - loss: 0.2618 - accuracy: 0.8733\n",
      "Epoch 88/100\n",
      "5/5 - 0s - loss: 0.2606 - accuracy: 0.8733\n",
      "Epoch 89/100\n",
      "5/5 - 0s - loss: 0.2595 - accuracy: 0.8733\n",
      "Epoch 90/100\n",
      "5/5 - 0s - loss: 0.2582 - accuracy: 0.8800\n",
      "Epoch 91/100\n",
      "5/5 - 0s - loss: 0.2572 - accuracy: 0.8800\n",
      "Epoch 92/100\n",
      "5/5 - 0s - loss: 0.2561 - accuracy: 0.8800\n",
      "Epoch 93/100\n",
      "5/5 - 0s - loss: 0.2550 - accuracy: 0.8867\n",
      "Epoch 94/100\n",
      "5/5 - 0s - loss: 0.2541 - accuracy: 0.8867\n",
      "Epoch 95/100\n",
      "5/5 - 0s - loss: 0.2531 - accuracy: 0.8867\n",
      "Epoch 96/100\n",
      "5/5 - 0s - loss: 0.2520 - accuracy: 0.8933\n",
      "Epoch 97/100\n",
      "5/5 - 0s - loss: 0.2513 - accuracy: 0.8933\n",
      "Epoch 98/100\n",
      "5/5 - 0s - loss: 0.2502 - accuracy: 0.8933\n",
      "Epoch 99/100\n",
      "5/5 - 0s - loss: 0.2494 - accuracy: 0.8933\n",
      "Epoch 100/100\n",
      "5/5 - 0s - loss: 0.2485 - accuracy: 0.8933\n"
     ]
    },
    {
     "data": {
      "text/plain": [
       "<tensorflow.python.keras.callbacks.History at 0x26f4aeff2e0>"
      ]
     },
     "execution_count": 19,
     "metadata": {},
     "output_type": "execute_result"
    }
   ],
   "source": [
    "deep_model.compile(optimizer='adam',\n",
    "                   loss='categorical_crossentropy',\n",
    "                   metrics=['accuracy'])\n",
    "\n",
    "deep_model.fit(X_train_scaled, y_train_categorical, epochs = 100, shuffle = True, verbose = 2)"
   ]
  },
  {
   "cell_type": "markdown",
   "metadata": {},
   "source": [
    "# Compare the models below"
   ]
  },
  {
   "cell_type": "code",
   "execution_count": 20,
   "metadata": {},
   "outputs": [
    {
     "name": "stdout",
     "output_type": "stream",
     "text": [
      "2/2 - 0s - loss: 0.2940 - accuracy: 0.8600\n",
      "Normal Neural Network - Loss: 0.2939649820327759, Accuracy: 0.8600000143051147\n"
     ]
    }
   ],
   "source": [
    "model_loss, model_accuracy = model.evaluate(\n",
    "    X_test_scaled, y_test_categorical, verbose=2)\n",
    "print(\n",
    "    f\"Normal Neural Network - Loss: {model_loss}, Accuracy: {model_accuracy}\")"
   ]
  },
  {
   "cell_type": "code",
   "execution_count": 21,
   "metadata": {},
   "outputs": [
    {
     "name": "stdout",
     "output_type": "stream",
     "text": [
      "2/2 - 0s - loss: 0.2611 - accuracy: 0.8600\n",
      "Deep Neural Network - Loss: 0.2610599994659424, Accuracy: 0.8600000143051147\n"
     ]
    }
   ],
   "source": [
    "model_loss, model_accuracy = deep_model.evaluate(\n",
    "    X_test_scaled, y_test_categorical, verbose=2)\n",
    "print(f\"Deep Neural Network - Loss: {model_loss}, Accuracy: {model_accuracy}\")"
   ]
  }
 ],
 "metadata": {
  "anaconda-cloud": {},
  "kernelspec": {
   "display_name": "Python 3",
   "language": "python",
   "name": "python3"
  },
  "language_info": {
   "codemirror_mode": {
    "name": "ipython",
    "version": 3
   },
   "file_extension": ".py",
   "mimetype": "text/x-python",
   "name": "python",
   "nbconvert_exporter": "python",
   "pygments_lexer": "ipython3",
   "version": "3.8.5"
  },
  "varInspector": {
   "cols": {
    "lenName": 16,
    "lenType": 16,
    "lenVar": 40
   },
   "kernels_config": {
    "python": {
     "delete_cmd_postfix": "",
     "delete_cmd_prefix": "del ",
     "library": "var_list.py",
     "varRefreshCmd": "print(var_dic_list())"
    },
    "r": {
     "delete_cmd_postfix": ") ",
     "delete_cmd_prefix": "rm(",
     "library": "var_list.r",
     "varRefreshCmd": "cat(var_dic_list()) "
    }
   },
   "types_to_exclude": [
    "module",
    "function",
    "builtin_function_or_method",
    "instance",
    "_Feature"
   ],
   "window_display": false
  }
 },
 "nbformat": 4,
 "nbformat_minor": 2
}
